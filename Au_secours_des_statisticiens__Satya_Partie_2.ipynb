{
  "nbformat": 4,
  "nbformat_minor": 0,
  "metadata": {
    "colab": {
      "name": "Au secours des statisticiens _Satya- Partie 2.ipynb",
      "provenance": []
    },
    "kernelspec": {
      "name": "python3",
      "display_name": "Python 3"
    }
  },
  "cells": [
    {
      "cell_type": "markdown",
      "metadata": {
        "id": "co2X9cGIieV0",
        "colab_type": "text"
      },
      "source": [
        "# Au secours des statisticiens !\n",
        "\n",
        "Tes collègues statisticiens ont besoin de toi. Ils veulent apprendre à programmer en Python et ont des tonnes de calculs à faire.\n",
        "\n",
        "Très gentimment, tu acceptes de les aider. Réalise les missions ci-dessous."
      ]
    },
    {
      "cell_type": "markdown",
      "metadata": {
        "id": "rvnKhKV7CVoS",
        "colab_type": "text"
      },
      "source": [
        "![Einstien le génie](http://lemomo2.pagesperso-orange.fr/Astrosourire/Albert_Einstein_emc2.jpg)"
      ]
    },
    {
      "cell_type": "markdown",
      "metadata": {
        "id": "zsHobPhC3ffd",
        "colab_type": "text"
      },
      "source": [
        "## Fonctions mathématiques à coder\n",
        "![Trouver x](http://www.nicolasmoro.net/wp-content/uploads/2012/03/TrouverX.jpg)\n",
        "\n",
        "**Maintenant ils te supplient de coder pour eux des fonctions mathématiques prêt à l'emploi. Ci-dessous les fonctions dont ils ont besoin. Créer les cellules ci-dessous et code la fonction ;-) : **\n",
        "\n",
        "- Carré d'un nombre : Fonction qui renvoie le carré d'un nombre.\n",
        "- Cube d'un nombre : Fonction qui affiche le cube d'un nombre.\n",
        "- Valeur absolu : Fonction qui renvoie la valeur absolu d'un nombre.\n",
        "- Factorielle d'un nombre : Fonction qui affiche la factorielle d'un nombre.\n",
        "- Mode d'une liste de nombre : Fonction qui renvoie le mode d'une liste de nombre.\n",
        "- Moyenne d'une liste de nombre : Fonction qui renvoie la moyenne d'une liste de nombre.\n",
        "- Minimum d'une liste de nombre : Fonction qui renvoie le minimum d'une liste de nombre.\n",
        "- Maximum d'une liste de nombre : Fonction qui renvoie le maximum d'une liste de nombre.\n",
        "- Puissance de x : Fonction qui prend en paramètre 2 nombres, le nombre et sa puissance, et renvoie le nombre à la puissance indiquée.\n",
        "- Nombre premier inférieur à x : Fonction qui prend un nombre et renvoie les nombres premiers inférieurs à celui-ci.\n",
        "- Suite de Fibonnaci : Fonction qui ne prend rien en paramètre, mais renvoie les 30 premiers nombres de la suite de Fibonnaci.\n",
        "- Racine carré : Fonction qui renvoie la racine carré d'un nombre."
      ]
    },
    {
      "cell_type": "code",
      "metadata": {
        "id": "AwUNBILPAGDn",
        "colab_type": "code",
        "outputId": "40b2b6b6-06cf-4fcc-83fa-c0de5091d93c",
        "colab": {
          "base_uri": "https://localhost:8080/",
          "height": 34
        }
      },
      "source": [
        "#Carré d'un nombre : Fonction qui renvoie le carré d'un nombre.\n",
        "\n",
        "def moncarré(n):\n",
        "  return n*n\n",
        "moncarré(6)\n"
      ],
      "execution_count": 0,
      "outputs": [
        {
          "output_type": "execute_result",
          "data": {
            "text/plain": [
              "36"
            ]
          },
          "metadata": {
            "tags": []
          },
          "execution_count": 1
        }
      ]
    },
    {
      "cell_type": "code",
      "metadata": {
        "id": "3wjLx1rnA08r",
        "colab_type": "code",
        "outputId": "836a0439-4490-4b0d-d9bc-f9e4476dd4f2",
        "colab": {
          "base_uri": "https://localhost:8080/",
          "height": 34
        }
      },
      "source": [
        "#Cube d'un nombre : Fonction qui affiche le cube d'un nombre.\n",
        "\n",
        "def cube(n):\n",
        "  return n*n*n\n",
        "cube(6)"
      ],
      "execution_count": 0,
      "outputs": [
        {
          "output_type": "execute_result",
          "data": {
            "text/plain": [
              "216"
            ]
          },
          "metadata": {
            "tags": []
          },
          "execution_count": 6
        }
      ]
    },
    {
      "cell_type": "code",
      "metadata": {
        "id": "ExyfI9stB9ja",
        "colab_type": "code",
        "outputId": "424c16ff-2fb5-464e-f8fd-5a13029706dc",
        "colab": {
          "base_uri": "https://localhost:8080/",
          "height": 34
        }
      },
      "source": [
        "#Valeur absolu : Fonction qui renvoie la valeur absolu d'un nombre.\n",
        "\n",
        "n = -56\n",
        "\n",
        "print('Absolute value of integer is:', abs(n))\n"
      ],
      "execution_count": 0,
      "outputs": [
        {
          "output_type": "stream",
          "text": [
            "Absolute value of integer is: 56\n"
          ],
          "name": "stdout"
        }
      ]
    },
    {
      "cell_type": "code",
      "metadata": {
        "id": "_piNRtsQCcD_",
        "colab_type": "code",
        "outputId": "cdbfe441-0603-475b-ea21-1a77255c9577",
        "colab": {
          "base_uri": "https://localhost:8080/",
          "height": 50
        }
      },
      "source": [
        "#Factorielle d'un nombre : Fonction qui affiche la factorielle d'un nombre\n",
        "def factorial(n):\n",
        "    if n == 0:\n",
        "        return 1\n",
        "    else:\n",
        "        return n * factorial(n-1)\n",
        "n=int(input(\"Input a number to compute the factiorial : \"))\n",
        "print(factorial(n))"
      ],
      "execution_count": 0,
      "outputs": [
        {
          "output_type": "stream",
          "text": [
            "Input a number to compute the factiorial : 0\n",
            "1\n"
          ],
          "name": "stdout"
        }
      ]
    },
    {
      "cell_type": "code",
      "metadata": {
        "id": "cbToPKJWDVGe",
        "colab_type": "code",
        "outputId": "0ddc5c16-c27e-45d8-e8c1-f256981748db",
        "colab": {
          "base_uri": "https://localhost:8080/",
          "height": 34
        }
      },
      "source": [
        "#Mode d'une liste de nombre : Fonction qui renvoie le mode d'une liste de nombre.\n",
        "\n",
        "from statistics import mode\n",
        "\n",
        "mode([1,8,5,2,8,7,4,8,6])"
      ],
      "execution_count": 0,
      "outputs": [
        {
          "output_type": "execute_result",
          "data": {
            "text/plain": [
              "8"
            ]
          },
          "metadata": {
            "tags": []
          },
          "execution_count": 10
        }
      ]
    },
    {
      "cell_type": "code",
      "metadata": {
        "id": "UjbiO_rTDoMU",
        "colab_type": "code",
        "outputId": "a5ac9b4c-8856-4f01-e8cd-6c2eb553d09b",
        "colab": {
          "base_uri": "https://localhost:8080/",
          "height": 34
        }
      },
      "source": [
        "#Moyenne d'une liste de nombre : Fonction qui renvoie la moyenne d'une liste de nombre.\n",
        "from statistics import mean\n",
        "mean([1,8,5,2,8,7,4,8,6])"
      ],
      "execution_count": 0,
      "outputs": [
        {
          "output_type": "execute_result",
          "data": {
            "text/plain": [
              "5.444444444444445"
            ]
          },
          "metadata": {
            "tags": []
          },
          "execution_count": 17
        }
      ]
    },
    {
      "cell_type": "code",
      "metadata": {
        "id": "jyjjZfTIEmlI",
        "colab_type": "code",
        "outputId": "b56d04a0-0006-4b33-d2c7-2017c7909304",
        "colab": {
          "base_uri": "https://localhost:8080/",
          "height": 34
        }
      },
      "source": [
        "#Minimum d'une liste de nombre : Fonction qui renvoie le minimum d'une liste de nombre.\n",
        "\n",
        "min([1,8,5,2,8,7,4,8,6])"
      ],
      "execution_count": 0,
      "outputs": [
        {
          "output_type": "execute_result",
          "data": {
            "text/plain": [
              "1"
            ]
          },
          "metadata": {
            "tags": []
          },
          "execution_count": 18
        }
      ]
    },
    {
      "cell_type": "code",
      "metadata": {
        "id": "I9xtu_fiE0yg",
        "colab_type": "code",
        "outputId": "03b66b5c-fec1-48a1-da15-9471b8570fa5",
        "colab": {
          "base_uri": "https://localhost:8080/",
          "height": 34
        }
      },
      "source": [
        "#Maximum d'une liste de nombre : Fonction qui renvoie le maximum d'une liste de nombre.\n",
        "\n",
        "max([1,8,5,2,8,7,4,9,6])"
      ],
      "execution_count": 0,
      "outputs": [
        {
          "output_type": "execute_result",
          "data": {
            "text/plain": [
              "9"
            ]
          },
          "metadata": {
            "tags": []
          },
          "execution_count": 19
        }
      ]
    },
    {
      "cell_type": "code",
      "metadata": {
        "id": "NrGMST4QFABT",
        "colab_type": "code",
        "outputId": "afa7c2f8-9ab9-4d51-aa54-baf585ff7d74",
        "colab": {
          "base_uri": "https://localhost:8080/",
          "height": 34
        }
      },
      "source": [
        "#Puissance de x : Fonction qui prend en paramètre 2 nombres, le nombre et sa puissance, et renvoie le nombre à la puissance indiquée.\n",
        "def monpuissance(x,y):\n",
        "  return x ** y\n",
        "monpuissance(3,4)"
      ],
      "execution_count": 0,
      "outputs": [
        {
          "output_type": "execute_result",
          "data": {
            "text/plain": [
              "81"
            ]
          },
          "metadata": {
            "tags": []
          },
          "execution_count": 2
        }
      ]
    },
    {
      "cell_type": "code",
      "metadata": {
        "id": "Kus36A1wFf0L",
        "colab_type": "code",
        "outputId": "d0597058-a1cb-445f-ddd8-7713b154edec",
        "colab": {
          "base_uri": "https://localhost:8080/",
          "height": 185
        }
      },
      "source": [
        "#Nombre premier inférieur à x : Fonction qui prend un nombre et renvoie les nombres premiers inférieurs à celui-ci.\n",
        "import math\n",
        "print(2)\n",
        "for num in range(3,30,2):\n",
        "    if all(num%i!=0 for i in range(3,int(math.sqrt(num))+1, 2)):\n",
        "       print (num)"
      ],
      "execution_count": 0,
      "outputs": [
        {
          "output_type": "stream",
          "text": [
            "2\n",
            "3\n",
            "5\n",
            "7\n",
            "11\n",
            "13\n",
            "17\n",
            "19\n",
            "23\n",
            "29\n"
          ],
          "name": "stdout"
        }
      ]
    },
    {
      "cell_type": "code",
      "metadata": {
        "id": "KNmeSOp-H2n5",
        "colab_type": "code",
        "outputId": "03718524-6edc-4b2c-d383-4736080547a0",
        "colab": {
          "base_uri": "https://localhost:8080/",
          "height": 34
        }
      },
      "source": [
        "#Suite de Fibonnaci : Fonction qui ne prend rien en paramètre, mais renvoie les 30 premiers nombres de la suite de Fibonnaci.\n",
        "def printFibonacciNumbers(n): \n",
        "      \n",
        "    f1 = 0\n",
        "    f2 = 1\n",
        "    if (n < 1): \n",
        "        return\n",
        "    for x in range(0, n): \n",
        "        print(f2, end = \" \") \n",
        "        next = f1 + f2 \n",
        "        f1 = f2 \n",
        "        f2 = next\n",
        "          \n",
        "# Driven code \n",
        "printFibonacciNumbers(30) "
      ],
      "execution_count": 0,
      "outputs": [
        {
          "output_type": "stream",
          "text": [
            "1 1 2 3 5 8 13 21 34 55 89 144 233 377 610 987 1597 2584 4181 6765 10946 17711 28657 46368 75025 121393 196418 317811 514229 832040 "
          ],
          "name": "stdout"
        }
      ]
    },
    {
      "cell_type": "code",
      "metadata": {
        "id": "0ycth86sJaTh",
        "colab_type": "code",
        "outputId": "ec72e360-463e-4664-9da2-733077801d55",
        "colab": {
          "base_uri": "https://localhost:8080/",
          "height": 34
        }
      },
      "source": [
        "#Racine carré : Fonction qui renvoie la racine carré d'un nombre.\n",
        "\n",
        "import math  \n",
        "  \n",
        "print(math.sqrt(4))"
      ],
      "execution_count": 0,
      "outputs": [
        {
          "output_type": "stream",
          "text": [
            "2.0\n"
          ],
          "name": "stdout"
        }
      ]
    },
    {
      "cell_type": "markdown",
      "metadata": {
        "id": "AqCWp4543lAd",
        "colab_type": "text"
      },
      "source": [
        "# Le théorème central limite\n",
        "\n",
        "Le code ci-dessous simule le **théorème central limite**. Vous devez remplacer les fonctions suivantes  par vos propres fonctions et obtenir le même résultat visuel :\n",
        "\n",
        "\n",
        "*   sqrt() : Votre fonction racine carré\n",
        "*   pow() : Votre fonction puissance de x\n",
        "\n"
      ]
    },
    {
      "cell_type": "code",
      "metadata": {
        "id": "zxu2w-qU3fK2",
        "colab_type": "code",
        "outputId": "281eafe1-bc52-4f58-8c49-8454c20361c3",
        "colab": {
          "base_uri": "https://localhost:8080/",
          "height": 269
        }
      },
      "source": [
        "# Code exemple\n",
        "\n",
        "import numpy as np\n",
        "import matplotlib.pyplot as plt\n",
        "from math import sqrt, pi, exp\n",
        "\n",
        "domaine = range(-100,100)\n",
        "mu = 0\n",
        "sigma = 20\n",
        "\n",
        "f = lambda x : 1/(sqrt(2*pi*pow(sigma,2))) * exp(-pow((x-mu),2)/(2*pow(sigma,2)))\n",
        "\n",
        "y = [f(x) for x in domaine]\n",
        "plot = plt.plot(domaine, y)"
      ],
      "execution_count": 0,
      "outputs": [
        {
          "output_type": "display_data",
          "data": {
            "image/png": "[encoded data removed]",
            "text/plain": [
              "<Figure size 432x288 with 1 Axes>"
            ]
          },
          "metadata": {
            "tags": []
          }
        }
      ]
    },
    {
      "cell_type": "code",
      "metadata": {
        "id": "IhjaJ1A03q_q",
        "colab_type": "code",
        "outputId": "ad85dd69-8caa-4940-edbd-c5a4278f48f0",
        "colab": {
          "base_uri": "https://localhost:8080/",
          "height": 276
        }
      },
      "source": [
        "# Votre code\n",
        "# Le visuel doit être le même que celui ci-dessus en utilisant ta fonction\n",
        "# maFonctionRacineCarre et maFonctionPuissanceDeX\n",
        "\n",
        "import numpy as np\n",
        "import matplotlib.pyplot as plt\n",
        "from math import sqrt, pi, exp\n",
        "\n",
        "domaine = range(-100,100)\n",
        "mu = 0\n",
        "sigma = 20\n",
        "\n",
        "f = lambda x : 1/(moncarré(2*pi*monpuissance(sigma,2))) * exp(-monpuissance((x-mu),2)/(2*monpuissance(sigma,2)))\n",
        "\n",
        "\n",
        "y = [f(x) for x in domaine]\n",
        "plot = plt.plot(domaine, y)"
      ],
      "execution_count": 0,
      "outputs": [
        {
          "output_type": "display_data",
          "data": {
            "image/png": "[encoded data removed]",
            "text/plain": [
              "<Figure size 432x288 with 1 Axes>"
            ]
          },
          "metadata": {
            "tags": []
          }
        }
      ]
    }
  ]
}